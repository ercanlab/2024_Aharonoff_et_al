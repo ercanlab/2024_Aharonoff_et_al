{
 "cells": [
  {
   "cell_type": "markdown",
   "metadata": {},
   "source": [
    "## Figures 3 and S8\n",
    "\n",
    "### This script produces the P. pacificus plot in Figure 3, but was used to make all the plots in Figures 3 and S8, which were put together in Illustrator."
   ]
  },
  {
   "cell_type": "code",
   "execution_count": 1,
   "metadata": {},
   "outputs": [
    {
     "name": "stderr",
     "output_type": "stream",
     "text": [
      "/state/partition1/job-436604/ipykernel_1543443/4289325635.py:22: MatplotlibDeprecationWarning: \n",
      "The mpl_toolkits.axes_grid module was deprecated in Matplotlib 2.1 and will be removed two minor releases later. Use mpl_toolkits.axes_grid1 and mpl_toolkits.axisartist, which provide the same functionality instead.\n",
      "  from mpl_toolkits.axes_grid import make_axes_locatable\n"
     ]
    },
    {
     "data": {
      "text/plain": [
       "'0.4.0'"
      ]
     },
     "execution_count": 1,
     "metadata": {},
     "output_type": "execute_result"
    }
   ],
   "source": [
    "# import standard python libraries\n",
    "import numpy as np\n",
    "import matplotlib.pyplot as plt\n",
    "import pandas as pd\n",
    "#import seaborn as sns\n",
    "\n",
    "import cooler\n",
    "import bioframe\n",
    "\n",
    "import cooltools\n",
    "import cooltools.expected\n",
    "from cooltools import snipping\n",
    "\n",
    "import cooltools.lib.plotting\n",
    "# Set up parallelization\n",
    "import multiprocess\n",
    "\n",
    "from matplotlib.colors import LogNorm\n",
    "from matplotlib.ticker import EngFormatter\n",
    "bp_formatter = EngFormatter('b')\n",
    "from scipy import interpolate\n",
    "from mpl_toolkits.axes_grid import make_axes_locatable\n",
    "import pyBigWig\n",
    "import csv\n",
    "\n",
    "from cooltools.lib.numutils import adaptive_coarsegrain, interp_nan\n",
    "\n",
    "# Import python package for working with cooler files and tools for analysis\n",
    "from cooltools.insulation import calculate_insulation_score, find_boundaries\n",
    "\n",
    "# check the version (0.4.0)\n",
    "cooltools.__version__ "
   ]
  },
  {
   "cell_type": "code",
   "execution_count": 2,
   "metadata": {},
   "outputs": [],
   "source": [
    "file=\"PS312_JK88_JK122_PRJNA12644-WBPS16-RS\"\n",
    "\n",
    "bin = str(5000) # resolution of cool file to load in base pairs\n",
    "\n",
    "# load cool file\n",
    "ppaclr = cooler.Cooler(\"\".join([\"/home/aa7013/hic-to-cool/\",file,\"/\",file,\"_30_\",bin,\"_raw.cool\"]))"
   ]
  },
  {
   "cell_type": "markdown",
   "metadata": {},
   "source": [
    "Load chrom.sizes files"
   ]
  },
  {
   "cell_type": "code",
   "execution_count": 3,
   "metadata": {},
   "outputs": [
    {
     "name": "stdout",
     "output_type": "stream",
     "text": [
      "  chrom  start       end            name\n",
      "0     I      0  39556110    I:0-39556110\n",
      "1    IV      0  30938908   IV:0-30938908\n",
      "2     V      0  23911096    V:0-23911096\n",
      "3    II      0  23310661   II:0-23310661\n",
      "4   III      0  21666382  III:0-21666382\n",
      "5     X      0  17126273    X:0-17126273\n"
     ]
    }
   ],
   "source": [
    "chr=bioframe.read_table('/home/aa7013/hic-to-cool/chrom-sizes_files/pristionchus_pacificus.PRJNA12644.WBPS16.genomic.RS.chrom.sizes',schema='bed3')\n",
    "chr=bioframe.parse_regions(chr)\n",
    "\n",
    "print(chr)"
   ]
  },
  {
   "cell_type": "markdown",
   "metadata": {},
   "source": [
    "Define functions to measure P(s) and its derivative (taken from cooltools)"
   ]
  },
  {
   "cell_type": "code",
   "execution_count": 4,
   "metadata": {},
   "outputs": [],
   "source": [
    "# a home-made wrapper around scaling distance decay curve and its derivative. See cooltools for more details\n",
    "# returns 2 outputs, P(s) and its derivative\n",
    "\n",
    "def scaling_agg(input_clr,input_regions):\n",
    "    cvd = cooltools.expected.diagsum(\n",
    "        clr=input_clr,\n",
    "        regions=input_regions,\n",
    "        transforms={'balanced': lambda p: p['count']*p['weight1']*p['weight2']}\n",
    "    )\n",
    "    lb_cvd, lb_slopes, lb_distbins = cooltools.expected.logbin_expected(cvd) #bins_per_order_magnitude=20 to get more dots\n",
    "    lb_cvd_agg, lb_slopes_agg = cooltools.expected.combine_binned_expected(\n",
    "        lb_cvd,\n",
    "        binned_exp_slope=lb_slopes\n",
    "    )\n",
    "    lb_cvd_agg['s_bp'] = lb_cvd_agg['diag.avg'] * input_clr.binsize\n",
    "    lb_slopes_agg['s_bp'] = lb_slopes_agg['diag.avg'] * input_clr.binsize\n",
    "    return(lb_cvd_agg,lb_slopes_agg)"
   ]
  },
  {
   "cell_type": "markdown",
   "metadata": {},
   "source": [
    "Measure P(s) and its derivative"
   ]
  },
  {
   "cell_type": "code",
   "execution_count": 5,
   "metadata": {},
   "outputs": [],
   "source": [
    "# Run the above function. The first element of the output is P(s), and the second is its derivative. Computed separately for each chromosome\n",
    "\n",
    "I = scaling_agg(ppaclr,chr.iloc[[0]].reset_index(drop=True))\n",
    "II = scaling_agg(ppaclr,chr.iloc[[1]].reset_index(drop=True))\n",
    "III = scaling_agg(ppaclr,chr.iloc[[2]].reset_index(drop=True))\n",
    "IV = scaling_agg(ppaclr,chr.iloc[[3]].reset_index(drop=True))\n",
    "V = scaling_agg(ppaclr,chr.iloc[[4]].reset_index(drop=True))\n",
    "X = scaling_agg(ppaclr,chr.iloc[[5]].reset_index(drop=True))"
   ]
  },
  {
   "cell_type": "markdown",
   "metadata": {},
   "source": [
    "Determine local maxima of the derivative for each chromosome (used to annotate on the plot)."
   ]
  },
  {
   "cell_type": "code",
   "execution_count": 6,
   "metadata": {},
   "outputs": [],
   "source": [
    "slope_I = I[1]\n",
    "slope_I = slope_I.iloc[:25]\n",
    "max_slope_I = slope_I[slope_I['slope'] == slope_I['slope'].max()]\n",
    "loop_size_I = max_slope_I['s_bp'].values[0]"
   ]
  },
  {
   "cell_type": "code",
   "execution_count": 7,
   "metadata": {},
   "outputs": [],
   "source": [
    "slope_II = II[1]\n",
    "slope_II = slope_II.iloc[:23]\n",
    "max_slope_II = slope_II[slope_II['slope'] == slope_II['slope'].max()]\n",
    "loop_size_II = max_slope_II['s_bp'].values[0]"
   ]
  },
  {
   "cell_type": "code",
   "execution_count": 8,
   "metadata": {},
   "outputs": [],
   "source": [
    "slope_III = III[1]\n",
    "slope_III = slope_III.iloc[:25]\n",
    "max_slope_III = slope_III[slope_III['slope'] == slope_III['slope'].max()]\n",
    "loop_size_III = max_slope_III['s_bp'].values[0]"
   ]
  },
  {
   "cell_type": "code",
   "execution_count": 9,
   "metadata": {},
   "outputs": [],
   "source": [
    "slope_IV = IV[1]\n",
    "slope_IV = slope_IV.iloc[:25]\n",
    "max_slope_IV = slope_IV[slope_IV['slope'] == slope_IV['slope'].max()]\n",
    "loop_size_IV = max_slope_IV['s_bp'].values[0]"
   ]
  },
  {
   "cell_type": "code",
   "execution_count": 10,
   "metadata": {},
   "outputs": [],
   "source": [
    "slope_V = V[1]\n",
    "slope_V = slope_V.iloc[:24]\n",
    "max_slope_V = slope_V[slope_V['slope'] == slope_V['slope'].max()]\n",
    "loop_size_V = max_slope_V['s_bp'].values[0]"
   ]
  },
  {
   "cell_type": "code",
   "execution_count": 11,
   "metadata": {},
   "outputs": [],
   "source": [
    "slope_X = X[1]\n",
    "slope_X = slope_X.iloc[:24]\n",
    "max_slope_X = slope_X[slope_X['slope'] == slope_X['slope'].max()]\n",
    "loop_size_X = max_slope_X['s_bp'].values[0]"
   ]
  },
  {
   "cell_type": "code",
   "execution_count": 12,
   "metadata": {},
   "outputs": [
    {
     "data": {
      "text/plain": [
       "(249585.79982412176,\n",
       " 249593.17042682282,\n",
       " 249592.24237604844,\n",
       " 249576.35500969546,\n",
       " 249603.94887219128,\n",
       " 157613.49548333357)"
      ]
     },
     "execution_count": 12,
     "metadata": {},
     "output_type": "execute_result"
    }
   ],
   "source": [
    "loop_size_I, loop_size_II, loop_size_III, loop_size_IV, loop_size_V, loop_size_X"
   ]
  },
  {
   "cell_type": "markdown",
   "metadata": {},
   "source": [
    "Plot the P(s) and its derivative as a function of separation in bp"
   ]
  },
  {
   "cell_type": "code",
   "execution_count": 13,
   "metadata": {},
   "outputs": [
    {
     "data": {
      "image/png": "[encoded data removed]",
      "text/plain": [
       "<Figure size 576x720 with 2 Axes>"
      ]
     },
     "metadata": {
      "needs_background": "light"
     },
     "output_type": "display_data"
    }
   ],
   "source": [
    "f, axs = plt.subplots(\n",
    "    figsize=(8,10),\n",
    "    ncols=1,\n",
    "    nrows=2,\n",
    "    sharex=True, sharey='row',\n",
    "    gridspec_kw={'height_ratios':[6,3]}\n",
    ")\n",
    "\n",
    "lw=1.25\n",
    "a=1\n",
    "lw2=2.5\n",
    "############################################ plot Ps ################################################\n",
    "ax0 = axs[0]\n",
    "ax0.loglog(\n",
    "    I[0]['s_bp'],\n",
    "    I[0]['balanced.avg'],\n",
    "    'o-', markersize=0,\n",
    "    label='I',\n",
    "    alpha=a, color='#CCCCCC',linewidth=1\n",
    ") #### plot P(s,I) on log-log space\n",
    "ax0 = axs[0]\n",
    "ax0.loglog(\n",
    "    II[0]['s_bp'],\n",
    "    II[0]['balanced.avg'],\n",
    "    'o-', markersize=0,\n",
    "    label='II',\n",
    "    alpha=a, color='#AAAAAA',linewidth=lw\n",
    ") #### plot P(s,III) on log-log space\n",
    "ax0 = axs[0]\n",
    "ax0.loglog(\n",
    "    III[0]['s_bp'],\n",
    "    III[0]['balanced.avg'],\n",
    "    'o-', markersize=0,\n",
    "    label='III',\n",
    "    alpha=a, color='#888888',linewidth=lw\n",
    ") #### plot P(s,V) on log-log space\n",
    "ax0 = axs[0]\n",
    "ax0.loglog(\n",
    "    IV[0]['s_bp'],\n",
    "    IV[0]['balanced.avg'],\n",
    "    'o-', markersize=0,\n",
    "    label='IV',\n",
    "    alpha=a, color='#666666',linewidth=lw\n",
    ") #### plot P(s,N) on log-log space\n",
    "ax0 = axs[0]\n",
    "ax0.loglog(\n",
    "    V[0]['s_bp'],\n",
    "    V[0]['balanced.avg'],\n",
    "    'o-', markersize=0,\n",
    "    label='V',\n",
    "    alpha=a, color='#444444',linewidth=lw\n",
    ") #### plot P(s,N) on log-log space\n",
    "ax0.loglog(\n",
    "    X[0]['s_bp'],\n",
    "    X[0]['balanced.avg'],\n",
    "    'o-', markersize=0,\n",
    "    label='X',\n",
    "    alpha=1.0, color='#D55E00',linewidth=lw\n",
    ") #### plot P(s,X) on the same axis, ax0\n",
    "\n",
    "############################################ plot Ps derivative #######################################\n",
    "ax1 = axs[1]\n",
    "ax1.semilogx(\n",
    "    I[1]['s_bp'],\n",
    "    I[1]['slope'],\n",
    "    'o-', markersize=0,\n",
    "    label='I',\n",
    "    alpha=a,color='#CCCCCC',linewidth=lw\n",
    ") #### plot log-derivative of P(s,I) on semi-log space\n",
    "ax1.semilogx(\n",
    "    II[1]['s_bp'],\n",
    "    II[1]['slope'],\n",
    "    'o-', markersize=0,\n",
    "    label='II',\n",
    "    alpha=a,color='#AAAAAA',linewidth=lw\n",
    ") #### plot log-derivative of P(s,III) on semi-log space\n",
    "ax1.semilogx(\n",
    "    III[1]['s_bp'],\n",
    "    III[1]['slope'],\n",
    "    'o-', markersize=0,\n",
    "    label='III',\n",
    "    alpha=a,color='#888888',linewidth=lw\n",
    ") #### plot log-derivative of P(s,V) on semi-log space\n",
    "ax1.semilogx(\n",
    "    IV[1]['s_bp'],\n",
    "    IV[1]['slope'],\n",
    "    'o-', markersize=0,\n",
    "    label='IV',\n",
    "    alpha=a,color='#666666',linewidth=lw\n",
    ") #### plot log-derivative of P(s,N) on semi-log space\n",
    "ax1.semilogx(\n",
    "    V[1]['s_bp'],\n",
    "    V[1]['slope'],\n",
    "    'o-', markersize=0,\n",
    "    label='V',\n",
    "    alpha=a,color='#444444',linewidth=lw\n",
    ") #### plot log-derivative of P(s,N) on semi-log space\n",
    "ax1.semilogx(\n",
    "    X[1]['s_bp'],\n",
    "    X[1]['slope'],\n",
    "    'o-', markersize=0,\n",
    "    label='X',\n",
    "    alpha=a,color='#D55E00',linewidth=lw\n",
    ") #### plot log-derivative of P(s,X) on the same axis, ax1\n",
    "\n",
    "######################################## do some labeling #############################################\n",
    "# putting grids\n",
    "ax0.grid(lw=0.5, axis = 'x')\n",
    "ax1.grid(lw=0.5, axis = 'x')\n",
    "#ax2.grid(lw=0.5)\n",
    "\n",
    "# label y-axis\n",
    "ax0.set_ylabel('P(s)', fontsize=20, labelpad=15)\n",
    "ax1.set_ylabel('slopes', fontsize=20, labelpad=15)\n",
    "ax0.tick_params(axis='y', labelsize=14)\n",
    "ax1.tick_params(axis='y', labelsize=14)\n",
    "#ax2.set_ylabel('P(s,X)/P(s,A)')\n",
    "\n",
    "# format x-axis, replacing exponentials with intuitive abbreviations\n",
    "def format_ticks(ax, x=True, y=True, rotate=True):\n",
    "    if y:\n",
    "        ax.yaxis.set_major_formatter(bp_formatter)\n",
    "    if x:\n",
    "        ax.xaxis.set_major_formatter(bp_formatter)\n",
    "        ax.xaxis.tick_bottom()\n",
    "    if rotate:\n",
    "        ax.tick_params(axis='x',rotation=45)\n",
    "        \n",
    "format_ticks(ax=ax1,x=True,y=False,rotate=False) # x-axis is shared, only one needs to be formatted\n",
    "ax1.set_xlabel('separation, s', fontsize=20, labelpad=15)\n",
    "ax1.tick_params(axis='x', labelsize=14)\n",
    "ax1.tick_params(axis='y', labelsize=14)\n",
    "\n",
    "\n",
    "# add legend\n",
    "ax0.legend(fontsize=14)\n",
    "plt.axvline(x = loop_size_I, color = '#CCCCCC', ymin = 0.7, ymax = 0.75, linewidth = lw2)\n",
    "plt.axvline(x = loop_size_II, color = '#AAAAAA', ymin = 0.6, ymax = 0.65, linewidth = lw2)\n",
    "plt.axvline(x = loop_size_III, color = '#888888', ymin = 0.3, ymax = 0.35, linewidth = lw2)\n",
    "plt.axvline(x = loop_size_IV, color = '#666666', ymin = 0.2, ymax = 0.25, linewidth = lw2)\n",
    "plt.axvline(x = loop_size_V, color = '#444444', ymin = 0.1, ymax = 0.15, linewidth = lw2)\n",
    "plt.axvline(x = loop_size_X, color = '#D55E00', ymin = 0.3, ymax = 0.35, linewidth = lw2)\n",
    "plt.tight_layout()\n",
    "\n",
    "#plt.savefig(\"\".join([file,\"_30_\",bin,\"_ddc.pdf\"]), format='pdf', dpi=300)"
   ]
  }
 ],
 "metadata": {
  "kernelspec": {
   "display_name": "cooltools_env",
   "language": "python",
   "name": "cooltools_env"
  },
  "language_info": {
   "codemirror_mode": {
    "name": "ipython",
    "version": 3
   },
   "file_extension": ".py",
   "mimetype": "text/x-python",
   "name": "python",
   "nbconvert_exporter": "python",
   "pygments_lexer": "ipython3",
   "version": "3.9.5"
  }
 },
 "nbformat": 4,
 "nbformat_minor": 4
}
